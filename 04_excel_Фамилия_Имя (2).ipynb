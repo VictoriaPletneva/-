{
 "cells": [
  {
   "cell_type": "markdown",
   "metadata": {},
   "source": [
    "# Работа с Excel"
   ]
  },
  {
   "cell_type": "markdown",
   "metadata": {},
   "source": [
    "Материалы:\n",
    "* Макрушин С.В. Лекция 7: Работа с Excel\n",
    "* https://docs.xlwings.org/en/stable/quickstart.html\n",
    "* https://nbviewer.jupyter.org/github/pybokeh/jupyter_notebooks/blob/master/xlwings/Excel_Formatting.ipynb#search_text\n"
   ]
  },
  {
   "cell_type": "markdown",
   "metadata": {},
   "source": [
    "## Задачи для совместного разбора"
   ]
  },
  {
   "cell_type": "markdown",
   "metadata": {},
   "source": [
    "1. На листе \"Рецептура\" файла `себестоимостьА_в1.xlsx` для области \"Пшеничный хлеб\" рассчитать себестоимость всех видов продукции."
   ]
  },
  {
   "cell_type": "markdown",
   "metadata": {},
   "source": [
    "2. Результаты расчетов 1.1 сохранить в отдельном столбце области \"Пшеничный хлеб\""
   ]
  },
  {
   "cell_type": "markdown",
   "metadata": {},
   "source": [
    "3. Приблизить форматирование столбца, добавленного в задаче 2 к оформлению всей области."
   ]
  },
  {
   "cell_type": "markdown",
   "metadata": {},
   "source": [
    "4. Выполнить 3 с помощью \"протягиваемых\" формул."
   ]
  },
  {
   "cell_type": "markdown",
   "metadata": {},
   "source": [
    "## Лабораторная работа 7.1"
   ]
  },
  {
   "cell_type": "markdown",
   "metadata": {},
   "source": [
    "1. Загрузите данные из файлов `reviews_sample.csv` (__ЛР2__) и `recipes_sample.csv` (__ЛР5__) в виде `pd.DataFrame`. Обратите внимание на корректное считывание столбца(ов) с индексами. Оставьте в таблице с рецептами следующие столбцы: `id`, `name`, `minutes`, `submitted`, `description`, `n_ingredients`"
   ]
  },
  {
   "cell_type": "code",
   "execution_count": 1,
   "metadata": {},
   "outputs": [
    {
     "name": "stdout",
     "output_type": "stream",
     "text": [
      "Requirement already satisfied: xlsxwriter in c:\\users\\lygwu\\anaconda3\\lib\\site-packages (3.2.0)\n"
     ]
    }
   ],
   "source": [
    "!pip install xlsxwriter"
   ]
  },
  {
   "cell_type": "code",
   "execution_count": 2,
   "metadata": {},
   "outputs": [],
   "source": [
    "import pandas as pd\n",
    "import xlwings as xw\n",
    "reviews = pd.read_csv('reviews_sample.csv', index_col='recipe_id')\n",
    "recipes = pd.read_csv('recipes_sample.csv')\n",
    "\n",
    "recipes = recipes[['id', 'name', 'minutes', 'submitted', 'description', 'n_ingredients']]"
   ]
  },
  {
   "cell_type": "markdown",
   "metadata": {},
   "source": [
    "2. Случайным образом выберите 5% строк из каждой таблицы и сохраните две таблицы на разные листы в один файл `recipes.xlsx`. Дайте листам названия \"Рецепты\" и \"Отзывы\", соответствующие содержанию таблиц. "
   ]
  },
  {
   "cell_type": "code",
   "execution_count": 3,
   "metadata": {},
   "outputs": [],
   "source": [
    "# Создаем случайную выборку из 5% строк каждой таблицы\n",
    "recipes_sample = recipes.sample(frac=0.05, random_state=1)\n",
    "reviews_sample = reviews.sample(frac=0.05, random_state=1)\n",
    "writer = pd.ExcelWriter('recipes.xlsx', engine='xlsxwriter')\n",
    "\n",
    "# Сохраняем выборку рецептов на лист \"Рецепты\"\n",
    "recipes_sample.to_excel(writer, sheet_name='Рецепты')\n",
    "\n",
    "# Сохраняем выборку отзывов на лист \"Отзывы\"\n",
    "reviews_sample.to_excel(writer, sheet_name='Отзывы')\n",
    "\n",
    "# Закрываем объект ExcelWriter, чтобы сохранить файл Excel\n",
    "writer.close()\n"
   ]
  },
  {
   "cell_type": "markdown",
   "metadata": {},
   "source": [
    "3. Используя `xlwings`, добавьте на лист `Рецепты` столбец `seconds_assign`, показывающий время выполнения рецепта в секундах. Выполните задание при помощи присваивания массива значений диапазону ячеек."
   ]
  },
  {
   "cell_type": "code",
   "execution_count": 4,
   "metadata": {},
   "outputs": [],
   "source": [
    "wb = xw.Book('recipes.xlsx')\n",
    "sheet = wb.sheets['Рецепты']\n",
    "\n",
    "time_seconds = recipes_sample['minutes'] * 60\n",
    "sheet.range('G1').value = 'seconds_assign'\n",
    "sheet.range('G2').options(transpose=True).value = time_seconds.tolist()\n",
    "\n",
    "wb.app.calculation = 'manual'\n",
    "wb.save()\n",
    "wb.close()\n"
   ]
  },
  {
   "cell_type": "markdown",
   "metadata": {},
   "source": [
    "4. Используя `xlwings`, добавьте на лист `Рецепты` столбец `seconds_formula`, показывающий время выполнения рецепта в секундах. Выполните задание при помощи формул Excel."
   ]
  },
  {
   "cell_type": "code",
   "execution_count": 5,
   "metadata": {},
   "outputs": [],
   "source": [
    "wb = xw.Book('recipes.xlsx')\n",
    "sheet = wb.sheets['Рецепты']\n",
    "\n",
    "# Добавляем формулу Excel для столбца seconds_formula\n",
    "last_row = sheet.range('A1').expand().last_cell.row\n",
    "formulas_range = sheet.range(f'H2:H{last_row}')\n",
    "formulas_range.formula = '=E2*60'\n",
    "\n",
    "# Сохраняем и закрываем книгу\n",
    "wb.save()\n",
    "wb.close()"
   ]
  },
  {
   "cell_type": "markdown",
   "metadata": {},
   "source": [
    "5. Сделайте названия всех добавленных столбцов полужирными и выровняйте по центру ячейки."
   ]
  },
  {
   "cell_type": "code",
   "execution_count": 6,
   "metadata": {},
   "outputs": [],
   "source": [
    "wb = xw.Book('recipes.xlsx')\n",
    "sheet = wb.sheets['Рецепты']\n",
    "\n",
    "# Добавляем форматирование к столбцу seconds_assign\n",
    "sheet.range('G1').api.Font.Bold = True\n",
    "sheet.range('G1').api.HorizontalAlignment = -4108\n",
    "\n",
    "# Добавляем форматирование к столбцу seconds_formula\n",
    "last_row = sheet.range('A1').expand().last_cell.row\n",
    "format_range = sheet.range(f'H1:H{last_row}')\n",
    "format_range.api.Font.Bold = True\n",
    "format_range.api.HorizontalAlignment = -4108\n",
    "\n",
    "# Сохраняем и закрываем книгу\n",
    "wb.save()\n",
    "wb.close()\n"
   ]
  },
  {
   "cell_type": "markdown",
   "metadata": {},
   "source": [
    "6. Раскрасьте ячейки столбца `minutes` в соответствии со следующим правилом: если рецепт выполняется быстрее 5 минут, то цвет - зеленый; от 5 до 10 минут - жёлтый; и больше 10 - красный."
   ]
  },
  {
   "cell_type": "code",
   "execution_count": 16,
   "metadata": {},
   "outputs": [],
   "source": [
    "import xlwings as xw\n",
    "wb = xw.Book('recipes.xlsx')\n",
    "sheet = wb.sheets['Рецепты']\n",
    "\n",
    "# Получаем диапазон значений столбца minutes\n",
    "last_row = sheet.range('A1').expand().last_cell.row\n",
    "minutes_range = sheet.range(f'I2:I{last_row}')\n",
    "\n",
    "# Применяем условное форматирование к столбцу minutes\n",
    "for cell in minutes_range:\n",
    "    try:\n",
    "        if cell.value and str(cell.value).strip():  # Проверяем, что значение не пустое\n",
    "            time = int(cell.value)\n",
    "            if time < 5:\n",
    "                cell.color = (0, 255, 0)  # Зеленый\n",
    "            elif 5 <= time <= 10:\n",
    "                cell.color = (255, 255, 0)  # Желтый\n",
    "            else:\n",
    "                cell.color = (255, 0, 0)  # Красный\n",
    "    except Exception as e:\n",
    "        print(f\"Ошибка в ячейке {cell.address}: {e}\")\n",
    "\n",
    "# Сохраняем и закрываем книгу\n",
    "wb.save()\n",
    "wb.close()"
   ]
  },
  {
   "cell_type": "markdown",
   "metadata": {},
   "source": [
    "7. Добавьте на лист `Рецепты`  столбец `n_reviews`, содержащий кол-во отзывов для этого рецепта. Выполните задание при помощи формул Excel."
   ]
  },
  {
   "cell_type": "code",
   "execution_count": 37,
   "metadata": {},
   "outputs": [],
   "source": [
    "wb = xw.Book('recipes.xlsx')\n",
    "sheet = wb.sheets['Рецепты']\n",
    "\n",
    "# Добавляем заголовок для нового столбца\n",
    "sheet.range('H1').value = 'n_reviews'\n",
    "\n",
    "# Применяем формулу COUNTIF для подсчета количества отзывов для каждого рецепта\n",
    "for i in range(len(recipes_sample)):\n",
    "    recipe_id = recipes_sample.iloc[i]['id']\n",
    "    count_formula = f'=COUNTIF(Отзывы!A:A, {recipe_id})'\n",
    "    cell_range = f'H{i+2}'  # Начиная с 2 строки, так как у нас есть заголовок\n",
    "    sheet.range(cell_range).formula = count_formula\n",
    "\n",
    "wb.save()\n",
    "wb.close()\n"
   ]
  },
  {
   "cell_type": "markdown",
   "metadata": {},
   "source": [
    "## Лабораторная работа 7.2"
   ]
  },
  {
   "cell_type": "markdown",
   "metadata": {},
   "source": [
    "8. Напишите функцию `validate()`, которая проверяет соответствие всех строк из листа `Отзывы` следующим правилам:\n",
    "    * Рейтинг - это число от 0 до 5 включительно\n",
    "    * Соответствующий рецепт имеется на листе `Рецепты`\n",
    "    \n",
    "В случае несоответствия этим правилам, выделите строку красным цветом"
   ]
  },
  {
   "cell_type": "code",
   "execution_count": null,
   "metadata": {},
   "outputs": [],
   "source": [
    "def validate():\n",
    "    wb = xw.Book('recipes.xlsx')\n",
    "    sheet = wb.sheets['Отзывы']\n",
    "    sheet1 = wb.sheets['Рецепты']\n",
    "    \n",
    "    # Определение последней заполненной строки в столбце \"E\"\n",
    "    last_row = sheet.range('E1').end('down').row\n",
    "\n",
    "\n",
    "\n",
    "    print(\"Последняя заполненная строка в столбце 'E':\", last_row)\n",
    "    \n",
    "    # Подсчет количества заполненных ячеек в столбце \"E\"\n",
    "    lenn = len(sheet['E'])\n",
    "    print(\"Количество заполненных ячеек в столбце 'E':\", lenn)\n",
    "    \n",
    "    # Если столбец \"E\" пуст, last_row будет равен 1\n",
    "    if last_row == 1:\n",
    "        print(\"Столбец 'E' пуст.\")\n",
    "        return\n",
    "    \n",
    "    for i in range(1, last_row + 1):  # Используем 1 в качестве начального значения\n",
    "        try:\n",
    "            rate = sheet.range(f'E{i}').value if sheet.range(f'E{i}').value is not None else \"\"\n",
    "            recipe_id = sheet.range(f'A{i}').value\n",
    "            if (rate not in range(6)) or (recipe_id not in sheet1['B']):\n",
    "                sheet.range(f'E{i}').api.EntireRow.Interior.Color = 255, 0, 0\n",
    "        except Exception as e:\n",
    "            print(f\"Ошибка в ячейке {i}: {e}\")\n",
    "    \n",
    "    wb.save()\n",
    "    wb.close()\n",
    "\n",
    "validate()\n"
   ]
  },
  {
   "cell_type": "code",
   "execution_count": null,
   "metadata": {},
   "outputs": [],
   "source": [
    "def validate():\n",
    "    wb=xw.Book('recipes.xlsx')\n",
    "    sheet=wb.sheets['Отзывы']\n",
    "    sheet1=wb.sheets['Рецепты']\n",
    "    lenn=len(sheet['E'])\n",
    "    for i in range(lenn-2):\n",
    "        try:\n",
    "            rate=sheet.range(f'E{i+2}').value\n",
    "            recipe_id=sheet.range(f'A{i+2}').value\n",
    "            if (rate not in range(6)) or (recipe_id not in sheet1['B']):\n",
    "                sheet.range(f'E{i+2}').api.EntireRow.Interior.Color=255, 0, 0\n",
    "        except Exception as e:\n",
    "            print(f\"Ошибка в ячейке\")\n",
    "    wb.save()\n",
    "    wb.close()\n",
    "    \n",
    "validate()"
   ]
  },
  {
   "cell_type": "markdown",
   "metadata": {},
   "source": [
    "9. В файле `recipes_model.csv` находится модель данных предметной области \"рецепты\". При помощи пакета `csv` считайте эти данные. При помощи пакета `xlwings` запишите данные на лист `Модель` книги `recipes_model.xlsx`, начиная с ячейки `A2`, не используя циклы. Сделайте скриншот текущего состояния листа и прикрепите в ячейку ноутбука. "
   ]
  },
  {
   "cell_type": "code",
   "execution_count": 49,
   "metadata": {},
   "outputs": [],
   "source": [
    "import csv\n",
    "import xlwings as xw\n",
    "with open('recipes_model.csv', newline='', encoding='utf-8') as csvfile:\n",
    "    reader=csv.reader(csvfile)\n",
    "    data=list(reader)\n",
    "    \n",
    "wb=xw.Book()\n",
    "sheet=wb.sheets['Лист1']\n",
    "sheet.name='Модель'\n",
    "sheet.range('A2').value=data\n",
    "wb.save('recipes_model.xlsx')\n",
    "wb.close()"
   ]
  },
  {
   "cell_type": "markdown",
   "metadata": {},
   "source": [
    "10. При помощи пакета `xlwings` добавьте в столбец J формулу для описания столбца на языке SQL. Формула должна реализовывать следующую логику:\n",
    "\n",
    "    1\\. в начале строки идут значения из столбцов В и C (значение столбца С приведено к верхнему регистру), разделенные пробелом\n",
    "    \n",
    "    2\\. далее идут слова на основе столбца \"Ключ\"\n",
    "        2.1 если в столбце \"Ключ\" указано значение \"PK\", то дальше через пробел идет ключевое слово \"PRIMARY KEY\"\n",
    "        2.2 если в столбце \"Ключ\" указано значение \"FK\", то дальше через пробел идет ключевое слово \"REFERENCES\", затем значения столбцов H и I в формате \"название_таблицы(название_столбца)\"\n",
    "        \n",
    "    3\\. если в столбце \"Обязательно к заполнению\" указано значение \"Y\" и в столбце \"Ключ\" указано не \"PK\", то дальше через пробел идет ключевое слово \"NOT NULL\".\n",
    "\n",
    "Заполните этой формулой необходимое количество строк, используя \"протягивание\". Количество строк для протягивания определите на основе данных.\n",
    "\n",
    "Сделайте скриншот текущего состояния листа и прикрепите в ячейку ноутбука."
   ]
  },
  {
   "cell_type": "code",
   "execution_count": null,
   "metadata": {},
   "outputs": [],
   "source": [
    "import xlwings as xw\n",
    "\n",
    "# Открываем книгу\n",
    "wb = xw.Book('recipes_model1.xlsx')\n",
    "\n",
    "# Получаем доступ к листу\n",
    "sheet = wb.sheets['Модель']\n",
    "\n",
    "# Параметры столбцов\n",
    "start_row = 1  # Начиная с какой строки добавлять формулу\n",
    "end_row = 2  # Последняя строка, где нужно добавить формулу\n",
    "\n",
    "# Формула для столбца J\n",
    "formula = '=B{} & \" \" & UPPER(C{}) & IF(D{}=\"PK\", \" PRIMARY KEY\", IF(D{}=\"FK\", \" REFERENCES \" & H{} & \"(\" & I{} & \")\", \"\")) & IF(D{}<>\"\" AND E{}=\"Y\" AND D{}<>\"PK\", \" NOT NULL\", \"\")'\n",
    "\n",
    "# Применяем формулу на необходимом диапазоне строк\n",
    "for row in range(start_row, end_row + 1):\n",
    "    sheet.range('J{}'.format(row)).formula = formula.format(row, row, row, row, row, row, row, row, row)\n",
    "\n",
    "# Сохраняем книгу\n",
    "wb.save()\n",
    "\n",
    "# Закрываем книгу\n",
    "wb.close()\n"
   ]
  },
  {
   "cell_type": "markdown",
   "metadata": {},
   "source": [
    "11. При помощи пакета `xlwings` измените стилизацию листа `Модель`.\n",
    "* для заголовков добавьте заливку цвета `00ccff`\n",
    "* примените автоподбор ширины столбца;\n",
    "* сделайте шрифт заголовков полужирным;\n",
    "* добавьте таблице автофильтр.\n",
    "\n",
    "Сделайте скриншот текущего состояния листа и прикрепите в ячейку ноутбука."
   ]
  },
  {
   "cell_type": "code",
   "execution_count": 57,
   "metadata": {},
   "outputs": [],
   "source": [
    "import xlwings as xw\n",
    "\n",
    "# Открываем книгу Excel\n",
    "wb = xw.Book('recipes_model1.xlsx')\n",
    "\n",
    "# Выбираем лист \"Модель\"\n",
    "sheet = wb.sheets['Модель']\n",
    "\n",
    "# Устанавливаем заливку цвета для заголовков\n",
    "sheet.range('1:1').color = (0, 204, 255)  # Цвет в формате RGB\n",
    "\n",
    "# Делаем шрифт заголовков полужирным\n",
    "sheet.range('1:1').api.Font.Bold = True\n",
    "\n",
    "# Применяем автоподбор ширины столбца\n",
    "sheet.range('1:1').api.EntireColumn.AutoFit()\n",
    "\n",
    "# Получаем диапазон таблицы\n",
    "table_range = sheet.range('A1').expand('table')\n",
    "\n",
    "# Получаем объект Range из объекта Range\n",
    "excel_range = table_range.api\n",
    "\n",
    "# Применяем автофильтр к таблице\n",
    "excel_range.AutoFilter(1)  # Номер столбца, по которому будет применен автофильтр\n",
    "\n",
    "# Сохраняем изменения\n",
    "wb.save()\n",
    "\n",
    "# Закрываем книгу\n",
    "wb.close()\n"
   ]
  },
  {
   "cell_type": "markdown",
   "metadata": {},
   "source": [
    "12. Посчитайте количество атрибутов для каждой из сущностей. Создайте лист `Статистика` и запишите в него результат группировки, начиная с ячейки \"А1\". Визуализируйте полученный результат при помощи столбчатой диаграммы. Сохраните полученную визуализацию на лист `Статистика`, начиная с ячейки \"E2\".  Сделайте скриншот листа `Статистика` и прикрепите в ячейку ноутбука.\n",
    "\n",
    "* Вы можете воспользоваться методами для визуализации, которые поставляются вместе с объектами `pandas` (см. https://pandas.pydata.org/docs/reference/api/pandas.DataFrame.plot) "
   ]
  }
 ],
 "metadata": {
  "kernelspec": {
   "display_name": "Python 3 (ipykernel)",
   "language": "python",
   "name": "python3"
  },
  "language_info": {
   "codemirror_mode": {
    "name": "ipython",
    "version": 3
   },
   "file_extension": ".py",
   "mimetype": "text/x-python",
   "name": "python",
   "nbconvert_exporter": "python",
   "pygments_lexer": "ipython3",
   "version": "3.11.5"
  }
 },
 "nbformat": 4,
 "nbformat_minor": 4
}
